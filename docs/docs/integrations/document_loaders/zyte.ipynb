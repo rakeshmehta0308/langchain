{
 "cells": [
  {
   "cell_type": "markdown",
   "metadata": {},
   "source": [
    "---\n",
    "sidebar_label: ZyteURLLoader\n",
    "---"
   ]
  },
  {
   "cell_type": "markdown",
   "metadata": {},
   "source": [
    "# ZyteURLLoader\n",
    "\n",
    "This notebook provides a quick overview for getting started with Zyte URL Document loader [document loader](https://python.langchain.com/v0.2/docs/concepts/#document-loaders). It allows a user to access the text of the webpage in various formats, given the url of the webpage. For detailed documentation of all ZyteURLLoader features and configurations head to the [API reference](https://python.langchain.com/v0.2/api_reference/community/document_loaders/langchain_community.document_loaders.zyte.ZyteURLLoader.html).\n",
    "\n",
    "## Overview\n",
    "\n",
    "### Integration details\n",
    "\n",
    "\n",
    "| Class | Package | Local | Serializable | \n",
    "| :--- | :--- | :---: | :---: |\n",
    "| [ZyteURLLoader](https://python.langchain.com/v0.2/api_reference/community/document_loaders/langchain_community.document_loaders.zyte.ZyteURLLoader.html) | [langchain_community](https://api.python.langchain.com/en/latest/community_api_reference.html) | ✅ | ❌ |\n",
    "\n",
    "\n",
    "### Loader features\n",
    "\n",
    "| Source | Document Lazy Loading | Native Async Support\n",
    "| :---: | :---: | :---: | \n",
    "| ZyteURLLoader | ✅ | ✅ | \n",
    "\n",
    "## Setup\n",
    "\n",
    "To access ZyteURL document loader you'll need to install the `langchain-community`, `zyte-api` and optionally `html-text` packages.\n",
    "\n",
    "### Credentials\n",
    "\n",
    "Head to [ZYTE-AI-SCRAPING](https://www.zyte.com/ai-web-scraping/) to sign up to Zyte-API and generate an API key. Once you've done this set the ZYTE_API_KEY environment variable:"
   ]
  },
  {
   "cell_type": "code",
   "execution_count": null,
   "metadata": {},
   "outputs": [],
   "source": [
    "import getpass\n",
    "import os\n",
    "\n",
    "os.environ[\"ZYTE_API_KEY\"] = getpass.getpass(\"Enter your ZyteURL API key: \")"
   ]
  },
  {
   "cell_type": "markdown",
   "metadata": {},
   "source": [
    "If you want to get automated best in-class tracing of your model calls you can also set your [LangSmith](https://docs.smith.langchain.com/) API key by uncommenting below:"
   ]
  },
  {
   "cell_type": "code",
   "execution_count": null,
   "metadata": {},
   "outputs": [],
   "source": [
    "# os.environ[\"LANGSMITH_API_KEY\"] = getpass.getpass(\"Enter your LangSmith API key: \")\n",
    "# os.environ[\"LANGSMITH_TRACING\"] = \"true\""
   ]
  },
  {
   "cell_type": "markdown",
   "metadata": {},
   "source": [
    "### Installation\n"
   ]
  },
  {
   "cell_type": "code",
   "execution_count": 26,
   "metadata": {},
   "outputs": [],
   "source": [
    "%pip install -qU langchain_community zyte-api html2text"
   ]
  },
  {
   "cell_type": "markdown",
   "metadata": {},
   "source": [
    "## Initialization\n",
    "\n",
    "Now we can instantiate our document loader and get the content in different loading modes. There are three modes: 'html', 'html-text', 'article'. For a single URL we try all three options and check the results. \n"
   ]
  },
  {
   "cell_type": "code",
   "execution_count": 25,
   "metadata": {},
   "outputs": [],
   "source": [
    "# To make it run in notebook\n",
    "# %pip install -qU nest_asyncio"
   ]
  },
  {
   "cell_type": "code",
   "execution_count": 1,
   "metadata": {},
   "outputs": [],
   "source": [
    "import os\n",
    "\n",
    "import nest_asyncio\n",
    "from langchain_community.document_loaders import ZyteURLLoader\n",
    "\n",
    "nest_asyncio.apply()"
   ]
  },
  {
   "cell_type": "code",
   "execution_count": 2,
   "metadata": {},
   "outputs": [],
   "source": [
    "urls = [\n",
    "    \"https://www.rte.ie/sport/paris-2024/2024/0806/1463620-paris-2024-coyle-and-sweetnam-dont-figure-in-medal/\"\n",
    "]\n",
    "zyte_api_key = os.environ.get(\"ZYTE_API_KEY\")"
   ]
  },
  {
   "cell_type": "code",
   "execution_count": 3,
   "metadata": {},
   "outputs": [],
   "source": [
    "loader_html = ZyteURLLoader(urls, mode=\"html\", api_key=zyte_api_key)\n",
    "loader_html_text = ZyteURLLoader(urls, mode=\"html-text\", api_key=zyte_api_key)\n",
    "loader_article = ZyteURLLoader(urls, mode=\"article\", api_key=zyte_api_key)"
   ]
  },
  {
   "cell_type": "markdown",
   "metadata": {},
   "source": [
    "ZyteURLLoader takes following parameters:\n",
    "- urls: URLs to load. Each is loaded into its own document.\n",
    "- api_key: Zyte API key.\n",
    "- mode: Determines how the text is extracted for the page content.\n",
    "        It can take one of the following values: 'html', 'html-text', 'article'\n",
    "- continue_on_failure: If True, continue loading other URLs if one fails.\n",
    "- n_conn: It is the maximum number of concurrent requests to use.\n",
    "- **download_kwargs: Any additional download arguments to pass for download. It allows user to enable browser rendering, JS, set a wait for timeout. See: https://docs.zyte.com/zyte-api/usage/reference.html"
   ]
  },
  {
   "cell_type": "markdown",
   "metadata": {},
   "source": [
    "## Load\n",
    "\n",
    "Here we show different modes in which a URL can be loaded. "
   ]
  },
  {
   "cell_type": "code",
   "execution_count": 4,
   "metadata": {},
   "outputs": [],
   "source": [
    "page_html = loader_html.load()\n",
    "page_html_text = loader_html_text.load()\n",
    "page_article = loader_article.load()"
   ]
  },
  {
   "cell_type": "markdown",
   "metadata": {},
   "source": [
    "We check the beginning of page content and the length of the text to get an idea of the content"
   ]
  },
  {
   "cell_type": "code",
   "execution_count": 5,
   "metadata": {},
   "outputs": [
    {
     "name": "stdout",
     "output_type": "stream",
     "text": [
      "\n",
      "\n",
      "\n",
      "\n",
      "<!DOCTYPE html>\n",
      "<html class=\"no-js\" lang=\"en\">\n",
      "<head>\n",
      "\n",
      "<script src=\"https://cdn.cookielaw.org/scripttemplates/otSDKStub.js\" type=\"text/javascript\" charset=\"UTF-8\" data-domain-script=\"a58df52b-2812-4cc9-99c6-cf9bcfe5af8b\"></script>\n",
      "<script src=\"https://www.rte.ie/djstatic/dotie/privacy/cookie-functions.js?v=20240912v38843\"></script>\n",
      "<script type=\"text/javascript\">\n",
      "    var optanonCallbacks = [\n",
      " \n"
     ]
    }
   ],
   "source": [
    "print(page_html[0].page_content[:400])"
   ]
  },
  {
   "cell_type": "code",
   "execution_count": 6,
   "metadata": {},
   "outputs": [
    {
     "data": {
      "text/plain": [
       "143056"
      ]
     },
     "execution_count": 6,
     "metadata": {},
     "output_type": "execute_result"
    }
   ],
   "source": [
    "len(page_html[0].page_content)"
   ]
  },
  {
   "cell_type": "code",
   "execution_count": 7,
   "metadata": {},
   "outputs": [
    {
     "name": "stdout",
     "output_type": "stream",
     "text": [
      "skip to main content\n",
      "\n",
      "Your browser does not support Javascript. Please turn Javascript on to get the\n",
      "best experience from rte.ie\n",
      "\n",
      "Menu\n",
      "\n",
      "[ Weather ](https://www.rte.ie/weather/)\n",
      "\n",
      "[ __ Ireland's Nationa\n"
     ]
    }
   ],
   "source": [
    "print(page_html_text[0].page_content[:200])"
   ]
  },
  {
   "cell_type": "code",
   "execution_count": 8,
   "metadata": {},
   "outputs": [
    {
     "data": {
      "text/plain": [
       "19140"
      ]
     },
     "execution_count": 8,
     "metadata": {},
     "output_type": "execute_result"
    }
   ],
   "source": [
    "len(page_html_text[0].page_content)"
   ]
  },
  {
   "cell_type": "code",
   "execution_count": 9,
   "metadata": {},
   "outputs": [
    {
     "name": "stdout",
     "output_type": "stream",
     "text": [
      "Paris 2024: No luck for Daniel Coyle and Shane Sweetnam in individual final\n",
      "\n",
      "There was no joy for Ireland's Daniel Coyle and Shane Sweetnam in the show jumping individual final, with the gold medal wo\n"
     ]
    }
   ],
   "source": [
    "print(page_article[0].page_content[:200])"
   ]
  },
  {
   "cell_type": "code",
   "execution_count": 10,
   "metadata": {},
   "outputs": [
    {
     "data": {
      "text/plain": [
       "3840"
      ]
     },
     "execution_count": 10,
     "metadata": {},
     "output_type": "execute_result"
    }
   ],
   "source": [
    "len(page_article[0].page_content)"
   ]
  },
  {
   "cell_type": "markdown",
   "metadata": {},
   "source": [
    "The length of the webpage content vary considerably with different webpage loading modes. In `article` mode we only get the relevant article content of the webpage and is much shorter. "
   ]
  },
  {
   "cell_type": "markdown",
   "metadata": {},
   "source": [
    "### Page content with browser rendering enabled (JS off)"
   ]
  },
  {
   "cell_type": "markdown",
   "metadata": {},
   "source": [
    "At time we would need the content of the page by enabling browser rendering. It can be done by passing setting the browserHtml argument. We disable the JS in this example."
   ]
  },
  {
   "cell_type": "code",
   "execution_count": 11,
   "metadata": {},
   "outputs": [],
   "source": [
    "urls = [\"https://www.whatismybrowser.com/detect/is-javascript-enabled/\"]"
   ]
  },
  {
   "cell_type": "code",
   "execution_count": 12,
   "metadata": {},
   "outputs": [],
   "source": [
    "kwargs = {\"browserHtml\": True, \"javascript\": False}\n",
    "loader_browser_text = ZyteURLLoader(\n",
    "    urls, mode=\"html-text\", api_key=zyte_api_key, download_kwargs=kwargs\n",
    ")"
   ]
  },
  {
   "cell_type": "code",
   "execution_count": 13,
   "metadata": {},
   "outputs": [],
   "source": [
    "page_browser = loader_browser_text.load()"
   ]
  },
  {
   "cell_type": "code",
   "execution_count": 14,
   "metadata": {},
   "outputs": [
    {
     "name": "stdout",
     "output_type": "stream",
     "text": [
      "[ ](/)\n",
      "\n",
      "[WhatIsMyBrowser.com](/)\n",
      "\n",
      "  * [My browser](/)\n",
      "  * [Guides](/guides/)\n",
      "  * [Detect my settings](/detect/)\n",
      "  * [Tools](/developers/tools/)\n",
      "\n",
      "  1. [ Homepage  ](/)\n",
      "  2. [ Detect my settings  ](/detect/)\n",
      "  3. [ Is JavaScript enabled?  ](/detect/is-javascript-enabled/)\n",
      "\n",
      "# Is JavaScript enabled?\n",
      "\n",
      "Updated at: Jun 26, 2024\n",
      "\n",
      "No\n",
      "\n",
      "JavaScript is enabled in your web browser. Congratulations; you're one step\n",
      "closer to having a fully featured online experience.\n",
      "\n",
      "## [Need help enabling JavaScript?](/guide\n"
     ]
    }
   ],
   "source": [
    "print(page_browser[0].page_content[:500])"
   ]
  },
  {
   "cell_type": "markdown",
   "metadata": {},
   "source": [
    "### Page content with JS enabled"
   ]
  },
  {
   "cell_type": "code",
   "execution_count": 15,
   "metadata": {},
   "outputs": [],
   "source": [
    "kwargs = {\n",
    "    \"browserHtml\": True,\n",
    "    \"javascript\": True,\n",
    "}\n",
    "loader_browser_js_text = ZyteURLLoader(\n",
    "    urls, mode=\"html-text\", api_key=zyte_api_key, download_kwargs=kwargs\n",
    ")"
   ]
  },
  {
   "cell_type": "code",
   "execution_count": 16,
   "metadata": {},
   "outputs": [],
   "source": [
    "page_browser_js = loader_browser_js_text.load()"
   ]
  },
  {
   "cell_type": "code",
   "execution_count": 17,
   "metadata": {},
   "outputs": [
    {
     "name": "stdout",
     "output_type": "stream",
     "text": [
      "[ ](/)\n",
      "\n",
      "[WhatIsMyBrowser.com](/)\n",
      "\n",
      "  * [My browser](/)\n",
      "  * [Guides](/guides/)\n",
      "  * [Detect my settings](/detect/)\n",
      "  * [Tools](/developers/tools/)\n",
      "\n",
      "  1. [ Homepage  ](/)\n",
      "  2. [ Detect my settings  ](/detect/)\n",
      "  3. [ Is JavaScript enabled?  ](/detect/is-javascript-enabled/)\n",
      "\n",
      "# Is JavaScript enabled?\n",
      "\n",
      "Updated at: Jun 26, 2024\n",
      "\n",
      "Yes\n",
      "\n",
      "JavaScript is enabled in your web browser. Congratulations; you're one step\n",
      "closer to having a fully featured online experience.\n",
      "\n",
      "## [Need help enabling JavaScript?](/guid\n"
     ]
    }
   ],
   "source": [
    "print(page_browser_js[0].page_content[:500])"
   ]
  },
  {
   "cell_type": "markdown",
   "metadata": {},
   "source": [
    "### Question answering from some news articles"
   ]
  },
  {
   "cell_type": "code",
   "execution_count": 27,
   "metadata": {},
   "outputs": [],
   "source": [
    "#!pip install -qU chromadb langchain-openai"
   ]
  },
  {
   "cell_type": "code",
   "execution_count": 5,
   "metadata": {},
   "outputs": [],
   "source": [
    "openai_api_key = os.environ.get(\"OPENAI_API_KEY\")"
   ]
  },
  {
   "cell_type": "code",
   "execution_count": 6,
   "metadata": {},
   "outputs": [],
   "source": [
    "urls = [\n",
    "    # Sports\n",
    "    \"https://www.rte.ie/sport/paris-2024/2024/0806/1463620-paris-2024-coyle-and-sweetnam-dont-figure-in-medal/\",\n",
    "    \"https://www.rte.ie/sport/paris-2024/2024/0806/1463576-kellie-harrington-olympics-yang/\",\n",
    "    \"https://www.rte.ie/sport/paris-2024/2024/0806/1463615-paris-2024-healy-and-osullivan-into-1500m-repechage/\",\n",
    "    \"https://www.rte.ie/sport/football/2024/0806/1463614-gaa-invites-bids-for-rights-to-gaago-broadcast-package/\",\n",
    "    # Business\n",
    "    \"https://www.rte.ie/news/business/2024/0806/1463642-cso-monthly-unemployment-figures/\",\n",
    "    \"https://www.rte.ie/news/business/2024/0806/1463597-tokyos-nikkei-index-recovers/\",\n",
    "    \"https://www.rte.ie/news/business/2024/0806/1463591-aib-services-pmi/\",\n",
    "]"
   ]
  },
  {
   "cell_type": "code",
   "execution_count": 7,
   "metadata": {},
   "outputs": [],
   "source": [
    "loader_articles = ZyteURLLoader(urls, mode=\"article\", api_key=zyte_api_key)"
   ]
  },
  {
   "cell_type": "code",
   "execution_count": 8,
   "metadata": {},
   "outputs": [],
   "source": [
    "pages = loader_articles.load()"
   ]
  },
  {
   "cell_type": "code",
   "execution_count": 11,
   "metadata": {},
   "outputs": [
    {
     "data": {
      "text/plain": [
       "7"
      ]
     },
     "execution_count": 11,
     "metadata": {},
     "output_type": "execute_result"
    }
   ],
   "source": [
    "len(pages)"
   ]
  },
  {
   "cell_type": "code",
   "execution_count": 12,
   "metadata": {},
   "outputs": [],
   "source": [
    "from langchain.vectorstores import Chroma\n",
    "from langchain_openai import ChatOpenAI, OpenAIEmbeddings"
   ]
  },
  {
   "cell_type": "markdown",
   "metadata": {},
   "source": [
    "We use OpenAI embedding to store the semantic information about the articles. "
   ]
  },
  {
   "cell_type": "code",
   "execution_count": 13,
   "metadata": {},
   "outputs": [],
   "source": [
    "embedding = OpenAIEmbeddings(api_key=openai_api_key)"
   ]
  },
  {
   "cell_type": "code",
   "execution_count": 14,
   "metadata": {},
   "outputs": [],
   "source": [
    "vectordb = Chroma.from_documents(\n",
    "    documents=pages,\n",
    "    embedding=embedding,\n",
    ")"
   ]
  },
  {
   "cell_type": "code",
   "execution_count": 15,
   "metadata": {},
   "outputs": [],
   "source": [
    "question = \"Who won the gold medal in individual jumping in 2024 olympics?\""
   ]
  },
  {
   "cell_type": "code",
   "execution_count": 16,
   "metadata": {},
   "outputs": [],
   "source": [
    "ret_docs = vectordb.similarity_search(question, k=1)"
   ]
  },
  {
   "cell_type": "code",
   "execution_count": 17,
   "metadata": {},
   "outputs": [],
   "source": [
    "from langchain_openai import ChatOpenAI\n",
    "\n",
    "llm = ChatOpenAI(model_name=\"gpt-3.5-turbo\", api_key=openai_api_key, temperature=0)"
   ]
  },
  {
   "cell_type": "code",
   "execution_count": 18,
   "metadata": {},
   "outputs": [],
   "source": [
    "from langchain.chains import RetrievalQA"
   ]
  },
  {
   "cell_type": "code",
   "execution_count": 19,
   "metadata": {},
   "outputs": [],
   "source": [
    "qa_chain = RetrievalQA.from_chain_type(\n",
    "    llm, return_source_documents=True, retriever=vectordb.as_retriever()\n",
    ")"
   ]
  },
  {
   "cell_type": "code",
   "execution_count": 20,
   "metadata": {},
   "outputs": [],
   "source": [
    "result = qa_chain.invoke(question)"
   ]
  },
  {
   "cell_type": "code",
   "execution_count": 21,
   "metadata": {},
   "outputs": [
    {
     "data": {
      "text/plain": [
       "\"The gold medal in individual jumping at the 2024 Olympics was won by Germany's Christian Kukuk after a jump-off.\""
      ]
     },
     "execution_count": 21,
     "metadata": {},
     "output_type": "execute_result"
    }
   ],
   "source": [
    "result[\"result\"]"
   ]
  },
  {
   "cell_type": "code",
   "execution_count": 22,
   "metadata": {},
   "outputs": [],
   "source": [
    "question2 = \"How is the employment rate changing for men in recent months?\""
   ]
  },
  {
   "cell_type": "code",
   "execution_count": 23,
   "metadata": {},
   "outputs": [],
   "source": [
    "result = qa_chain.invoke(question2)"
   ]
  },
  {
   "cell_type": "code",
   "execution_count": 24,
   "metadata": {},
   "outputs": [
    {
     "data": {
      "text/plain": [
       "'The unemployment rate for men in July was 4.7%, up from the revised rate of 4.5% in June and also higher than the rate of 4.5% in July of the previous year. This indicates a slight increase in unemployment for men in recent months.'"
      ]
     },
     "execution_count": 24,
     "metadata": {},
     "output_type": "execute_result"
    }
   ],
   "source": [
    "result[\"result\"]"
   ]
  },
  {
   "cell_type": "markdown",
   "metadata": {},
   "source": [
    "## Lazy Load"
   ]
  },
  {
   "cell_type": "code",
   "execution_count": 4,
   "metadata": {},
   "outputs": [],
   "source": [
    "urls = [\n",
    "    \"https://www.rte.ie/sport/paris-2024/2024/0806/1463620-paris-2024-coyle-and-sweetnam-dont-figure-in-medal/\",\n",
    "    \"https://www.rte.ie/sport/football/2024/0806/1463614-gaa-invites-bids-for-rights-to-gaago-broadcast-package/\",\n",
    "]\n",
    "loader_html = ZyteURLLoader(urls, mode=\"html\", api_key=zyte_api_key)"
   ]
  },
  {
   "cell_type": "code",
   "execution_count": 6,
   "metadata": {},
   "outputs": [],
   "source": [
    "page = []\n",
    "for doc in loader_html.lazy_load():\n",
    "    page.append(doc)\n",
    "    if len(page) >= 10:\n",
    "        # do some paged operation, e.g.\n",
    "        # index.upsert(page)\n",
    "\n",
    "        page = []"
   ]
  },
  {
   "cell_type": "code",
   "execution_count": 7,
   "metadata": {},
   "outputs": [
    {
     "data": {
      "text/plain": [
       "2"
      ]
     },
     "execution_count": 7,
     "metadata": {},
     "output_type": "execute_result"
    }
   ],
   "source": [
    "len(page)"
   ]
  },
  {
   "cell_type": "markdown",
   "metadata": {},
   "source": [
    "## API reference\n",
    "\n",
    "For detailed documentation of all ZyteURLLoader features and configurations head to the API reference: https://python.langchain.com/v0.2/api_reference/community/document_loaders/langchain_community.document_loaders.zyte.ZyteURLLoader.html"
   ]
  },
  {
   "cell_type": "code",
   "execution_count": null,
   "metadata": {},
   "outputs": [],
   "source": []
  }
 ],
 "metadata": {
  "kernelspec": {
   "display_name": "forked-langchain",
   "language": "python",
   "name": "forked-langchain"
  },
  "language_info": {
   "codemirror_mode": {
    "name": "ipython",
    "version": 3
   },
   "file_extension": ".py",
   "mimetype": "text/x-python",
   "name": "python",
   "nbconvert_exporter": "python",
   "pygments_lexer": "ipython3",
   "version": "3.10.14"
  }
 },
 "nbformat": 4,
 "nbformat_minor": 4
}
